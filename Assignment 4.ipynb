{
 "cells": [
  {
   "cell_type": "code",
   "execution_count": 1,
   "id": "817b0c63",
   "metadata": {},
   "outputs": [
    {
     "name": "stdout",
     "output_type": "stream",
     "text": [
      "0.749538\n"
     ]
    }
   ],
   "source": [
    "import random\n",
    "\n",
    "def game(N):\n",
    "    square = 1\n",
    "    for i in range(N-1):\n",
    "        toss = random.randint(1,2)\n",
    "        square += toss\n",
    "        if square==N:\n",
    "            return 1\n",
    "      \n",
    "# Run the N=3 game 1000 times\n",
    "total = 0\n",
    "for i in range(500000):\n",
    "    x = game(3)\n",
    "    if x==1:\n",
    "        total += 1\n",
    "    \n",
    "print(total/500000)"
   ]
  },
  {
   "cell_type": "code",
   "execution_count": 2,
   "id": "3e7088ff",
   "metadata": {},
   "outputs": [
    {
     "name": "stdout",
     "output_type": "stream",
     "text": [
      "0.667046\n"
     ]
    }
   ],
   "source": [
    "#Now running the N=25 game\n",
    "\n",
    "total25 = 0\n",
    "for i in range(500000):\n",
    "    x = game(25)\n",
    "    if x==1:\n",
    "        total25 += 1\n",
    "    \n",
    "print(total25/500000)"
   ]
  },
  {
   "cell_type": "code",
   "execution_count": 33,
   "id": "8a983f83",
   "metadata": {},
   "outputs": [
    {
     "name": "stdout",
     "output_type": "stream",
     "text": [
      "Game solved for N=25\n",
      "\n",
      "0.6666666865348816 \n",
      "\n",
      "Game solved using the average of N=24 and N=23 \n",
      "\n",
      "0.6666666865348816\n"
     ]
    }
   ],
   "source": [
    "#Solving the recursive formula\n",
    "\n",
    "def solver(N,r1=0.75,r2=0.5):\n",
    "    for i in range(N-3):\n",
    "\n",
    "        r0 = (0.5 * r1) + (0.5*r2)\n",
    "        r2 = r1\n",
    "        r1 = r0\n",
    "    return r0\n",
    "\n",
    "print('Game solved for N=25\\n')\n",
    "print(solver(25),'\\n')\n",
    "print('Game solved using the average of N=24 and N=23 \\n')\n",
    "print(0.5*solver(24)+0.5*solver(23))"
   ]
  },
  {
   "cell_type": "code",
   "execution_count": 9,
   "id": "82f3f190",
   "metadata": {},
   "outputs": [
    {
     "name": "stdout",
     "output_type": "stream",
     "text": [
      "Solving the recurrence relation for d=3 gives: \n",
      " 0.4567901234567901\n"
     ]
    }
   ],
   "source": [
    "r1 = 1/3\n",
    "r2 = 4/9\n",
    "r3 = 16/27\n",
    "N=5\n",
    "\n",
    "\n",
    "for i in range(N-4):\n",
    "\n",
    "        r0 = (1/3)*r1 + (1/3)*r2 + (1/3)*r3\n",
    "        r3 = r2\n",
    "        r2 = r1\n",
    "        r1 = r0\n",
    "        \n",
    "print('Solving the recurrence relation for d=3 gives: \\n', r0)"
   ]
  }
 ],
 "metadata": {
  "kernelspec": {
   "display_name": "Python 3 (ipykernel)",
   "language": "python",
   "name": "python3"
  },
  "language_info": {
   "codemirror_mode": {
    "name": "ipython",
    "version": 3
   },
   "file_extension": ".py",
   "mimetype": "text/x-python",
   "name": "python",
   "nbconvert_exporter": "python",
   "pygments_lexer": "ipython3",
   "version": "3.9.13"
  }
 },
 "nbformat": 4,
 "nbformat_minor": 5
}
