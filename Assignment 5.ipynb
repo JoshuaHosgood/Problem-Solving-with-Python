{
 "cells": [
  {
   "cell_type": "code",
   "execution_count": null,
   "id": "25fa559e",
   "metadata": {},
   "outputs": [],
   "source": []
  },
  {
   "cell_type": "code",
   "execution_count": null,
   "id": "0afe9ebf",
   "metadata": {},
   "outputs": [],
   "source": []
  },
  {
   "cell_type": "code",
   "execution_count": null,
   "id": "4bc7e37c",
   "metadata": {},
   "outputs": [],
   "source": []
  },
  {
   "cell_type": "code",
   "execution_count": null,
   "id": "7993ca61",
   "metadata": {},
   "outputs": [],
   "source": []
  },
  {
   "cell_type": "code",
   "execution_count": 1,
   "id": "135848ad",
   "metadata": {},
   "outputs": [
    {
     "name": "stdout",
     "output_type": "stream",
     "text": [
      "What x-coordinate do you want: 6\n",
      "What y-coordinate do you want: -4\n",
      "The value in coordinate ( 6 , -4 ) is: 123\n",
      "\n",
      " Here is the spiral to verifiy: \n",
      "\n",
      "145 144 143 142 141 140 139 138 137 136 135 134 133\n",
      "146 101 100 099 098 097 096 095 094 093 092 091 132\n",
      "147 102 065 064 063 062 061 060 059 058 057 090 131\n",
      "148 103 066 037 036 035 034 033 032 031 056 089 130\n",
      "149 104 067 038 017 016 015 014 013 030 055 088 129\n",
      "150 105 068 039 018 005 004 003 012 029 054 087 128\n",
      "151 106 069 040 019 006 001 002 011 028 053 086 127\n",
      "152 107 070 041 020 007 008 009 010 027 052 085 126\n",
      "153 108 071 042 021 022 023 024 025 026 051 084 125\n",
      "154 109 072 043 044 045 046 047 048 049 050 083 124\n",
      "155 110 073 074 075 076 077 078 079 080 081 082 123\n",
      "156 111 112 113 114 115 116 117 118 119 120 121 122\n",
      "157 158 159 160 161 162 163 164 165 166 167 168 169\n"
     ]
    }
   ],
   "source": [
    "U, D, L, R = (0, -1), (0, 1), (-1, 0), (1, 0) \n",
    "turn_left = {U: L, R: U, D: R, L: D} \n",
    "\n",
    "def spiral(length, height):\n",
    "    x, y = length // 2, height // 2 \n",
    "    dx, dy = D \n",
    "    matrix = [[None] * length for _ in range(height)]\n",
    "    count = 0\n",
    "    while True:\n",
    "        count += 1\n",
    "        matrix[y][x] = count \n",
    "        new_dx, new_dy = turn_left[dx,dy]\n",
    "        new_x, new_y = x + new_dx, y + new_dy\n",
    "        if (0 <= new_x < length and 0 <= new_y < height and matrix[new_y][new_x] is None):\n",
    "            x, y = new_x, new_y\n",
    "            dx, dy = new_dx, new_dy\n",
    "        else:\n",
    "            x, y = x + dx, y + dy\n",
    "            if not (0 <= x < length and 0 <= y < height):\n",
    "                return matrix \n",
    "\n",
    "def print_matrix(matrix):\n",
    "    length = len(str(max(el for row in matrix for el in row if el is not None)))\n",
    "    f = \"{:0%dd}\" % length\n",
    "    for row in matrix:\n",
    "        print(\" \".join(\"_\"*length if el is None else f.format(el) for el in row))\n",
    "\n",
    "def value(x,y):\n",
    "    square = max(abs(x),abs(y))+1\n",
    "    square_val = 2+4*(square-1)*(square-2)\n",
    "\n",
    "    if y>=(-square+2) and y<=(square+1) and x==(square-1):\n",
    "        square_val += y+square-2\n",
    "    \n",
    "    elif y==(square-1) and x>=(-(square-1)) and x==(-square+1):\n",
    "        square_val += 2*square - 3 + square-1-x\n",
    "      \n",
    "    elif x==(-square+1) and y<=(square-1) and y>=(-square+1):\n",
    "        square_val += 4*square - 5 + square -1 -y\n",
    "    \n",
    "    else:\n",
    "        square_val += 6*square -7 + square -1 +x\n",
    "    \n",
    "    return square_val\n",
    "\n",
    "x,y = int(input('What x-coordinate do you want: ')),int(input('What y-coordinate do you want: '))\n",
    "length = 2*max(abs(x),abs(y))+1\n",
    "print('The value in coordinate (',x,',',y,') is:',value(x,y))\n",
    "print('\\n Here is the spiral to verifiy: \\n')\n",
    "print_matrix(spiral(length, length))"
   ]
  },
  {
   "cell_type": "code",
   "execution_count": 2,
   "id": "4c37ed11",
   "metadata": {},
   "outputs": [
    {
     "name": "stdout",
     "output_type": "stream",
     "text": [
      "___ ___ ___ ___ ___ ___ ___ ___ ___ ___ ___\n",
      "101 100 099 098 097 096 095 094 093 092 091\n",
      "102 065 064 063 062 061 060 059 058 057 090\n",
      "103 066 037 036 035 034 033 032 031 056 089\n",
      "104 067 038 017 016 015 014 013 030 055 088\n",
      "105 068 039 018 005 004 003 012 029 054 087\n",
      "106 069 040 019 006 001 002 011 028 053 086\n",
      "107 070 041 020 007 008 009 010 027 052 085\n",
      "108 071 042 021 022 023 024 025 026 051 084\n",
      "109 072 043 044 045 046 047 048 049 050 083\n",
      "110 073 074 075 076 077 078 079 080 081 082\n",
      "111 112 113 114 115 116 117 118 119 120 121\n"
     ]
    }
   ],
   "source": [
    "print_matrix(spiral(11,12))"
   ]
  },
  {
   "cell_type": "code",
   "execution_count": null,
   "id": "ba72a6f4",
   "metadata": {},
   "outputs": [],
   "source": []
  },
  {
   "cell_type": "code",
   "execution_count": null,
   "id": "479cfe79",
   "metadata": {},
   "outputs": [],
   "source": []
  }
 ],
 "metadata": {
  "kernelspec": {
   "display_name": "Python 3 (ipykernel)",
   "language": "python",
   "name": "python3"
  },
  "language_info": {
   "codemirror_mode": {
    "name": "ipython",
    "version": 3
   },
   "file_extension": ".py",
   "mimetype": "text/x-python",
   "name": "python",
   "nbconvert_exporter": "python",
   "pygments_lexer": "ipython3",
   "version": "3.9.13"
  }
 },
 "nbformat": 4,
 "nbformat_minor": 5
}
